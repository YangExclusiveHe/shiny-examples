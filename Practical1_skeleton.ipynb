{
  "cells": [
    {
      "cell_type": "markdown",
      "metadata": {
        "id": "view-in-github",
        "colab_type": "text"
      },
      "source": [
        "<a href=\"https://colab.research.google.com/github/YangExclusiveHe/shiny-examples/blob/main/Practical1_skeleton.ipynb\" target=\"_parent\"><img src=\"https://colab.research.google.com/assets/colab-badge.svg\" alt=\"Open In Colab\"/></a>"
      ]
    },
    {
      "cell_type": "markdown",
      "metadata": {
        "id": "id1w7kwZVF3I"
      },
      "source": [
        "# Practical 1 : Implementation of Linear Regression (Ridge, Lasso)\n",
        "\n",
        "This practical has two parts. The first part is to implement and train a linear regression model using the least squares method. We will implement the model and train it on the winequality dataset using the NumPy library. Learning curves will be plotted to determine if the model is overfitting or underfitting.\n",
        "\n",
        "In the second part, we will apply the basis expansion to the dataset and train linear regression models with regularization, i.e., Ridge and Lasso. These tasks do not need to be implemented from scratch -- We will use the functions from the scikit-learn library. During training, we use the validation data to determine the optimal hyperparameters. \n",
        "An optional task is to implement the hyperparameter selection using the k-fold cross-validation method. Five bonus points are awarded for this task. \n",
        "\n"
      ]
    },
    {
      "cell_type": "markdown",
      "metadata": {
        "id": "89pdpOYGnYp7"
      },
      "source": [
        "We will use the following packages:"
      ]
    },
    {
      "cell_type": "code",
      "execution_count": 1,
      "metadata": {
        "id": "CTZv9o5i4gy3"
      },
      "outputs": [],
      "source": [
        "import numpy as np\n",
        "import matplotlib.pyplot as plt\n",
        "import _pickle as cp"
      ]
    },
    {
      "cell_type": "markdown",
      "metadata": {
        "id": "b1-ZQWqTVPno"
      },
      "source": [
        "## Dataset\n",
        "We will use the winequality dataset for this practical. The dataset is available here:\n",
        "https://archive.ics.uci.edu/ml/datasets/Wine+Quality. \n",
        "In order to make it easier to import the dataset, the dataset has been converted to the numpy array format and shuffled, so that we can start the practical directly. The converted dataset is available on the OLAT page.\n",
        "\n",
        "#### Attribute Information\n",
        "Input variables (based on physicochemical tests):\n",
        "1. fixed acidity\n",
        "2. volatile acidity\n",
        "3. citric acid\n",
        "4. residual sugar\n",
        "5. chlorides\n",
        "6. free sulfur dioxide\n",
        "7. total sulfur dioxide\n",
        "8. density\n",
        "9. pH\n",
        "10. sulphates\n",
        "11. alcohol\n",
        "\n",
        "Output variable (based on sensory data):\n",
        "\n",
        "12. quality (score between 0 and 10)\n",
        "\n"
      ]
    },
    {
      "cell_type": "markdown",
      "metadata": {
        "id": "TzDL9RQiVaPY"
      },
      "source": [
        "There are two files in the dataset, one for white wine data and one for red wine data. We focus on the white wine data, which is the larger dataset. The following code loads the data:"
      ]
    },
    {
      "cell_type": "code",
      "execution_count": 2,
      "metadata": {
        "colab": {
          "base_uri": "https://localhost:8080/"
        },
        "id": "NYkwbebUVO_i",
        "outputId": "86920ff4-4e9b-4603-9b82-9ad4c5d20ff8"
      },
      "outputs": [
        {
          "output_type": "stream",
          "name": "stdout",
          "text": [
            "X is a matrix with the dimension (4898, 11). That is, 4898 data records and 11 features.\n",
            "y is a vector with 4898 values. They are the labels of the data records in X.\n"
          ]
        }
      ],
      "source": [
        "# load the white wine dataset\n",
        "# X is the feature matrix that stores the feature values of the data records\n",
        "# y is the label vector that stores the labels of the data records\n",
        "X, y = cp.load(open('winequality-white.pickle', 'rb'))\n",
        "\n",
        "# check the size of the data\n",
        "print(\"X is a matrix with the dimension {}. That is, {} data records and {} features.\".format(X.shape, X.shape[0], X.shape[1]))\n",
        "print(\"y is a vector with {} values. They are the labels of the data records in X.\".format(y.shape[0]))\n"
      ]
    },
    {
      "cell_type": "markdown",
      "metadata": {
        "id": "q2yKNR49Wkn8"
      },
      "source": [
        "## Understanding What We’re Predicting\n",
        "\n",
        "First, let's look at the labels. \n",
        "We make the bar chart below to show the distribution of labels in the dataset. \n",
        "The y-values are integers from 3 to 9. \n"
      ]
    },
    {
      "cell_type": "code",
      "execution_count": 3,
      "metadata": {
        "cellView": "both",
        "colab": {
          "base_uri": "https://localhost:8080/",
          "height": 295
        },
        "id": "4L_JDK3dWrsR",
        "outputId": "3d349075-2592-45d7-fd63-891e72773b33"
      },
      "outputs": [
        {
          "output_type": "display_data",
          "data": {
            "text/plain": [
              "<Figure size 432x288 with 1 Axes>"
            ],
            "image/png": "[encoded data removed]"
          },
          "metadata": {
            "needs_background": "light"
          }
        }
      ],
      "source": [
        "# the function takes the y-values in the training data as the input and makes the bar chart. \n",
        "def plot_bar_chart_score(y):\n",
        "    fix, ax = plt.subplots()\n",
        "    unique, counts = np.unique(y, return_counts=True)\n",
        "    plt.bar(unique, counts)\n",
        "    plt.xlabel('Score')\n",
        "    plt.ylabel('Number of wines')\n",
        "    plt.title('Distribution of scores of wines')\n",
        "    plt.show()\n",
        "\n",
        "plot_bar_chart_score(y)"
      ]
    },
    {
      "cell_type": "markdown",
      "metadata": {
        "id": "CGuNg0KbWN0z"
      },
      "source": [
        "Our goal is to train a model that can take wine records in X and predict the quality of the wines.\n",
        "We split the data into training data and test data. \n",
        "In practice, we should sample randomly 80% of the data as training data and the rest as the test data. \n",
        "Though, in this practical, let's all use the same split: the **first** 80% of the data for training and the remaining 20% for testing. This makes sure we can compare your results to ours."
      ]
    },
    {
      "cell_type": "markdown",
      "metadata": {
        "id": "KIPHg4WinYqD"
      },
      "source": [
        "### **Task 1** \n",
        "The first task is to write a function that can split the dataset into training and testing data according to the parameter `split_coeff`. When `split_coeff` is set to 0.8, it means the function sets the first 80% of the data as the training data and the remaining 20% as the testing data. "
      ]
    },
    {
      "cell_type": "code",
      "execution_count": 4,
      "metadata": {
        "id": "6ZqbBa8bWNYg"
      },
      "outputs": [],
      "source": [
        "# The function splits the dataset into training data and testing data.\n",
        "# The parameter split_coeff is a percentage value such that\n",
        "# the first split_coeff of the dataset become the training data\n",
        "# and the remaining data become the test data\n",
        "def split_data(X, y, split_coeff=0.8):\n",
        "    train_size = int(X.shape[0] * split_coeff) \n",
        "    X_train = X[:train_size, :] \n",
        "    X_test = X[train_size:, :]\n",
        "    y_train = y[:train_size]\n",
        "    y_test = y[train_size:]\n",
        "    \n",
        "    return X_train, y_train, X_test, y_test\n"
      ]
    },
    {
      "cell_type": "markdown",
      "metadata": {
        "id": "S1-rYuvAnYqE"
      },
      "source": [
        "Your function should return the expected output as shown in the code block below. "
      ]
    },
    {
      "cell_type": "code",
      "execution_count": 5,
      "metadata": {
        "id": "4AdsuFVxnYqE",
        "outputId": "672ee75e-8e22-49b0-fdf4-06a33d4b8805",
        "colab": {
          "base_uri": "https://localhost:8080/"
        }
      },
      "outputs": [
        {
          "output_type": "stream",
          "name": "stdout",
          "text": [
            "Shape of X_train: (3918, 11)\n",
            "Shape of y_train: (3918,)\n",
            "Shape of X_test: (980, 11)\n",
            "Shape of y_test: (980,)\n"
          ]
        }
      ],
      "source": [
        "X_train, y_train, X_test, y_test = split_data(X, y, 0.8) # split the data with split_coeff=0.8\n",
        "\n",
        "# check the size of the splitted dataset\n",
        "print(\"Shape of X_train:\", X_train.shape) # expected output (3918, 11)\n",
        "print(\"Shape of y_train:\", y_train.shape) # expected output (3918,)\n",
        "print(\"Shape of X_test:\", X_test.shape) # expected output (980, 11)\n",
        "print(\"Shape of y_test:\", y_test.shape) # expected output (980,)"
      ]
    },
    {
      "cell_type": "markdown",
      "metadata": {
        "id": "GxjlElni2FcH"
      },
      "source": [
        "### **Task 2** \n",
        "\n",
        "As a first step, we construct a trivial model that returns the mean of the y-values in the training data for any wine record in X. We use this trivial model as a baseline. The linear regression models we build later should perform better than this trivial model."
      ]
    },
    {
      "cell_type": "code",
      "execution_count": 6,
      "metadata": {
        "colab": {
          "base_uri": "https://localhost:8080/"
        },
        "id": "-V3xFYexX1lt",
        "outputId": "becdd167-e9ea-4a9f-b0be-407dcdd0ec96"
      },
      "outputs": [
        {
          "output_type": "stream",
          "name": "stdout",
          "text": [
            "The average of the y-values in the training data is 5.878764675855028\n"
          ]
        }
      ],
      "source": [
        "#@title\n",
        "# Task 2: implement the trivial predictor\n",
        "# The function computes the average value of y on the training label values\n",
        "def compute_average(y_train):\n",
        "    # The code below is just for compilation. \n",
        "    # You need to delete it and write your own code.\n",
        "    ###################################################\n",
        "    ##### YOUR CODE STARTS HERE #######################\n",
        "    ###################################################\n",
        "    # Hint: return the mean of y_train\n",
        "    return np.mean(y_train)\n",
        "    ###################################################\n",
        "    ##### YOUR CODE ENDS HERE #########################\n",
        "    ###################################################\n",
        "\n",
        "y_train_avg = compute_average(y_train)\n",
        "print(\"The average of the y-values in the training data is {}\".format(y_train_avg)) \n",
        "\n",
        "# The trivial predictor returns the average value.\n",
        "def trivial_predictor(X_test, y_train_avg):\n",
        "  return y_train_avg\n"
      ]
    },
    {
      "cell_type": "markdown",
      "metadata": {
        "id": "x531Q_SxXV14"
      },
      "source": [
        "### **Task 3**\n",
        "We next evaluate the trivial predictor on the training data and test data. \n",
        "We use mean squared error (MSE) to measure the performance of the predictor.\n",
        "The task is to implement a function that reports the mean squared error of the given predictor on the given data. "
      ]
    },
    {
      "cell_type": "code",
      "execution_count": 7,
      "metadata": {
        "colab": {
          "base_uri": "https://localhost:8080/"
        },
        "id": "mV8l6Ci9YlgL",
        "outputId": "f9af471c-0523-4dbb-dda3-34dcf6061376"
      },
      "outputs": [
        {
          "output_type": "stream",
          "name": "stdout",
          "text": [
            "Trivial Predictor\n",
            "--------------------------------------------------------------------------------\n",
            "\n",
            "MSE (Training) = 0.7768\n",
            "MSE (Testing)  = 0.8139\n"
          ]
        }
      ],
      "source": [
        "# We next test our trivial predictor on the training data and test data. \n",
        "# Implement a function that can report the mean squared error \n",
        "# of a predictor on the given data\n",
        "# Input: data and predictor\n",
        "# Output: mean squared error of the predictor on the given data\n",
        "def test_predictor(X, y, predictor: callable=None):\n",
        "    # Apply the predictor to each row of the matrix X to get the predictions\n",
        "    y_predicted = np.apply_along_axis(predictor, 1, X)\n",
        "\n",
        "    mse = np.mean((y - y_predicted)**2)\n",
        "    \n",
        "    return mse\n",
        "\n",
        "# use the function test_predictor to test the trivial predictor\n",
        "# we use the lambda function here to pass the function trivial predictor to the function test_predictor.\n",
        "mse_trivial_predictor_train = test_predictor(X_train, y_train, lambda x: trivial_predictor(x, y_train_avg))\n",
        "mse_trivial_predictor_test = test_predictor(X_test, y_test, lambda x: trivial_predictor(x, y_train_avg))\n",
        "\n",
        "# Report the result\n",
        "print('Trivial Predictor')\n",
        "print('--------------------------------------------------------------------------------\\n')\n",
        "print('MSE (Training) = %.4f' % mse_trivial_predictor_train)\n",
        "print('MSE (Testing)  = %.4f' % mse_trivial_predictor_test)"
      ]
    },
    {
      "cell_type": "markdown",
      "metadata": {
        "id": "geiyM1Nea0az"
      },
      "source": [
        "## Train the Linear Model Using the Least Squares Method\n",
        "\n",
        "Let's next train a linear regression model on the training data. \n",
        "We use the closed form solution of the least squares estimate to compute the parameters of the linear regression model. \n",
        "This model should perform better than the trivial predictor."
      ]
    },
    {
      "cell_type": "markdown",
      "metadata": {
        "id": "WSEwFGp_bqAI"
      },
      "source": [
        "### **Task 4**\n",
        "Before training the model, we need to standardize the data, i.e., transform the data so that every feature has mean 0 and variance 1. \n",
        "\n",
        "https://en.wikipedia.org/wiki/Standard_score\n",
        "\n",
        "We first standardize the training data, and then apply the same transformation to the test data. That is, standardize the test data using the means and the standard deviations of the training data. "
      ]
    },
    {
      "cell_type": "code",
      "execution_count": 9,
      "metadata": {
        "colab": {
          "base_uri": "https://localhost:8080/"
        },
        "id": "trjwkcgybhDH",
        "outputId": "5c56dfaf-2cbf-443b-fc77-0920c30bc754"
      },
      "outputs": [
        {
          "output_type": "stream",
          "name": "stdout",
          "text": [
            "X_train_std: (3918, 11)\n",
            "Mean: [6.85427514e+00 2.78390761e-01 3.34892802e-01 6.42623788e+00\n",
            " 4.58213374e-02 3.53263144e+01 1.38513272e+02 9.94040729e-01\n",
            " 3.18647524e+00 4.89055641e-01 1.05115799e+01]\n",
            "Standard deviation: [8.39100902e-01 9.95630176e-02 1.24249975e-01 5.06377532e+00\n",
            " 2.16660282e-02 1.71004677e+01 4.23956179e+01 2.97972269e-03\n",
            " 1.49949475e-01 1.12992053e-01 1.22536544e+00]\n"
          ]
        }
      ],
      "source": [
        "# The task is to implement a function that can standardize the data and returns the mean and std of the data.\n",
        "# Input: training data\n",
        "# Output: standardize training data, standard deviations and means\n",
        "def standardize_data(X):\n",
        "    \n",
        "    mean = np.mean(X,axis=0)\n",
        "    std = np.std(X,axis=0)\n",
        "    X_std = (X-mean)/std\n",
        "    ###################################################\n",
        "    ##### YOUR CODE ENDS HERE #########################\n",
        "    ###################################################\n",
        "    \n",
        "    return X_std, mean, std\n",
        "\n",
        "# Standardize the training data and store the means and the stds \n",
        "X_train_std, X_train_mean, X_train_std_div = standardize_data(X_train)\n",
        "print(\"X_train_std:\", X_train_std.shape)\n",
        "print(\"Mean:\", X_train_mean)\n",
        "print(\"Standard deviation:\", X_train_std_div)"
      ]
    },
    {
      "cell_type": "code",
      "execution_count": 15,
      "metadata": {
        "colab": {
          "base_uri": "https://localhost:8080/"
        },
        "id": "RjzbA5JpM759",
        "outputId": "8077c46c-90f2-4fca-cbed-a642faf08e08"
      },
      "outputs": [
        {
          "output_type": "stream",
          "name": "stdout",
          "text": [
            "(980, 11)\n",
            "[[-0.18385767  0.61879643  1.65076248 ... -0.97683064  0.62787034\n",
            "  -1.39679138]\n",
            " [ 1.24624447  0.51835753 -0.44179327 ... -0.24325022 -0.96516204\n",
            "  -1.39679138]\n",
            " [ 0.41201822  0.31747972  0.12158713 ... -0.30993935  0.36236495\n",
            "  -0.66231661]\n",
            " ...\n",
            " [-0.66055839  2.02494103 -2.37338318 ...  0.35695195 -1.14216564\n",
            "  -0.74392492]\n",
            " [-1.25643428 -1.49042048 -0.92469075 ...  0.89046499 -0.61115484\n",
            "   0.96984954]\n",
            " [ 1.12706929  0.41791862 -0.0393787  ... -0.77676326  0.80487394\n",
            "  -0.74392492]]\n"
          ]
        }
      ],
      "source": [
        "# TODO: Standardize the test data using the means and standrad deviations of the training data\n",
        "###################################################\n",
        "##### YOUR CODE STARTS HERE #######################\n",
        "###################################################\n",
        "X_test_std = (X_test-X_train_mean)/X_train_std_div\n",
        "print(X_test_std.shape)\n",
        "print(X_test_std)\n",
        "###################################################\n",
        "##### YOUR CODE ENDS HERE #########################\n",
        "###################################################"
      ]
    },
    {
      "cell_type": "markdown",
      "metadata": {
        "id": "vT4_Sl42bxmD"
      },
      "source": [
        "### **Task 5**\n",
        "Let's now train the linear model using the least-squares method. \n",
        "We need to add the bias term to the matrix X. "
      ]
    },
    {
      "cell_type": "code",
      "execution_count": 16,
      "metadata": {
        "colab": {
          "base_uri": "https://localhost:8080/"
        },
        "id": "A4JtLr6pdJV7",
        "outputId": "92eb88a8-bd4b-4056-f44b-230405ca901d"
      },
      "outputs": [
        {
          "output_type": "stream",
          "name": "stdout",
          "text": [
            "[ 5.87876468e+00  5.70365710e-02 -1.83384219e-01 -4.04067444e-03\n",
            "  4.09097280e-01 -8.17517111e-03  5.92929519e-02 -3.56633675e-03\n",
            " -4.36936781e-01  9.87381161e-02  6.53325059e-02  2.42495455e-01]\n",
            "w: (12,)\n"
          ]
        }
      ],
      "source": [
        "# The task is to implement the function that adds a column of ones to the first column of X\n",
        "def expand_with_ones(X):\n",
        "    ones = np.ones((X[:,0].shape[0],1),dtype=int)\n",
        "    X_out = np.hstack((ones, X))\n",
        "    return X_out\n",
        "    ###################################################\n",
        "    ##### YOUR CODE ENDS HERE #########################\n",
        "    ###################################################\n",
        "\n",
        "# Train the linear model using the least-squares method\n",
        "# The task is to implement the function that computes the parameters\n",
        "def least_squares_compute_parameters(X_input, y):\n",
        "    # add the bias column to the data\n",
        "    X = expand_with_ones(X_input)\n",
        "\n",
        "    m1 = X.T.dot(X) # X^T X\n",
        "    m2 = np.linalg.inv(m1) # (X^T X)^-1\n",
        "    m3 = m2.dot(X.T) # (X^T X)^-1X^T\n",
        "    w = m3.dot(y)\n",
        "    \n",
        "\n",
        "    # TODO: compute the parameters based on the expanded X and y using the least-squares method\n",
        "    # The code below is just for compilation. \n",
        "    # You need to replace it by your own code.\n",
        "    ###################################################\n",
        "    ##### YOUR CODE STARTS HERE #######################\n",
        "    ###################################################\n",
        "    \n",
        "    return w\n",
        "    ###################################################\n",
        "    ##### YOUR CODE ENDS HERE #########################\n",
        "    ###################################################\n",
        "\n",
        "# Apply the function to train the linear model\n",
        "w = least_squares_compute_parameters(X_train_std, y_train)\n",
        "print(w)\n",
        "print(\"w:\", w.shape)"
      ]
    },
    {
      "cell_type": "markdown",
      "metadata": {
        "id": "lasj_1PpeZib"
      },
      "source": [
        "After computing the parameters,\n",
        "we can build the linear model predictor.\n",
        "The predictor takes as input the computed parameters and the data, and predicts the labels for the input data."
      ]
    },
    {
      "cell_type": "code",
      "execution_count": 17,
      "metadata": {
        "id": "Lb-hNagxc3Wj"
      },
      "outputs": [],
      "source": [
        "# Implement the linear model predictor\n",
        "# Input: test data and parameters\n",
        "# Output: predicted values\n",
        "def linear_model_predictor(X, w):\n",
        "    # TODO: predict the labels for the input data\n",
        "    # The code below is just for compilation. \n",
        "    # You need to replace it by your own code.\n",
        "    ###################################################\n",
        "    ##### YOUR CODE STARTS HERE #######################\n",
        "    ###################################################\n",
        "    \n",
        "    predicted_value = X.dot(w)\n",
        "    return predicted_value\n",
        "    ###################################################\n",
        "    ##### YOUR CODE ENDS HERE #########################\n",
        "    ###################################################\n"
      ]
    },
    {
      "cell_type": "markdown",
      "metadata": {
        "id": "cFOYpwbufz7J"
      },
      "source": [
        "Evaluate our linear regression model predictor on the test data. "
      ]
    },
    {
      "cell_type": "code",
      "execution_count": 19,
      "metadata": {
        "colab": {
          "base_uri": "https://localhost:8080/"
        },
        "id": "LuHHmn2RB55j",
        "outputId": "192a0268-339a-452a-e02b-ecb6f1707306"
      },
      "outputs": [
        {
          "output_type": "stream",
          "name": "stdout",
          "text": [
            "Mean squared error is 0.5607292042283472\n"
          ]
        }
      ],
      "source": [
        "# use the function test_predictor to evaluate the linear model predictor\n",
        "mse_linear_model_predictor = test_predictor(expand_with_ones(X_test_std), y_test, lambda x: linear_model_predictor(x, w))\n",
        "print(\"Mean squared error is {}\".format(mse_linear_model_predictor))"
      ]
    },
    {
      "cell_type": "markdown",
      "metadata": {
        "id": "zqj4HKAihF7Q"
      },
      "source": [
        "## Learning Curves\n",
        "\n",
        "Let us check if the linear model is overfitting or underfitting. Since the dataset is somewhat large and there are only 11 features, the model shouldn't be overfitting. \n",
        "To check it, we use the learning curves: we plot how the performance of the model changes when it is trained with increasingly more data. "
      ]
    },
    {
      "cell_type": "markdown",
      "metadata": {
        "id": "MNf11kurCgKF"
      },
      "source": [
        "### **Task 6** \n",
        "\n",
        "Let's first implement a function that comprises what we have implemented above. \n",
        "The function takes as inputs the data and the split coefficient, and then\n",
        "1. standardizes the data,\n",
        "2. trains the linear model (compute the parameters), and\n",
        "3. reports the MSE of the linear model predictor on both the training and the test data. "
      ]
    },
    {
      "cell_type": "code",
      "execution_count": 20,
      "metadata": {
        "colab": {
          "base_uri": "https://localhost:8080/"
        },
        "id": "UcGRQBrEb106",
        "outputId": "ecabe522-0417-4b1f-bf06-ac899072b825"
      },
      "outputs": [
        {
          "output_type": "stream",
          "name": "stdout",
          "text": [
            "Linear Model\n",
            "-----------------------\n",
            "\n",
            "MSE (Training) = 0.5640\n",
            "MSE (Testing)  = 0.5607\n"
          ]
        }
      ],
      "source": [
        "# Input: training data and test data\n",
        "# Output: mse of the linear model predictor on both the training and test data\n",
        "def train_and_test(X_train, y_train, X_test, y_test):\n",
        "    # TODO: implement the function \n",
        "    # The code below is just for compilation. \n",
        "    # You need to replace it by your own code.\n",
        "    ###################################################\n",
        "    ##### YOUR CODE STARTS HERE #######################\n",
        "    ###################################################\n",
        "    # Hints: use the functions you have implemented\n",
        "    X_train_std, X_mean_train, X_std_train=standardize_data(X_train)\n",
        "    X_test_std = (X_test-X_train_mean)/X_train_std_div\n",
        "\n",
        "    ones_train = np.ones((X_train_std[:,0].shape[0],1),dtype=int)\n",
        "    X_train_std_out = np.hstack((ones_train, X_train_std))\n",
        "    ones_test = np.ones((X_test_std[:,0].shape[0],1),dtype=int)\n",
        "    X_test_std_out = np.hstack((ones_test, X_test_std))\n",
        "\n",
        "    m1_train = X_train_std_out.T.dot(X_train_std_out) # X^T X\n",
        "    m2_train = np.linalg.inv(m1_train) # (X^T X)^-1\n",
        "    m3_train = m2_train.dot(X_train_std_out.T) # (X^T X)^-1X^T\n",
        "    w_train = m3_train.dot(y_train)\n",
        "\n",
        "\n",
        "    predicted_value_train = X_train_std_out.dot(w_train)\n",
        "    predicted_value_test = X_test_std_out.dot(w_train)\n",
        "\n",
        "    mse_train = np.mean((y_train - predicted_value_train)**2)\n",
        "    mse_test = np.mean((y_test - predicted_value_test)**2)\n",
        "\n",
        "\n",
        "\n",
        "\n",
        "    return mse_train, mse_test\n",
        "    ###################################################\n",
        "    ##### YOUR CODE ENDS HERE #########################\n",
        "    ###################################################\n",
        "\n",
        "mse_train, mse_test = train_and_test(X_train, y_train, X_test, y_test)\n",
        "print('Linear Model')\n",
        "print('-----------------------\\n')\n",
        "print('MSE (Training) = %.4f' % mse_train)\n",
        "print('MSE (Testing)  = %.4f' % mse_test)\n"
      ]
    },
    {
      "cell_type": "markdown",
      "metadata": {
        "id": "NTJw_BrzhRwi"
      },
      "source": [
        "### **Task 7**\n",
        "\n",
        "We are now ready to plot the learning curves. \n",
        "\n",
        "We train a list of models on the increasingly more training data ([20, 40, ..., 600] data records).\n",
        "For each of such model, we compute the MSEs of the model on both the training data and the test data, and store the MSEs in the lists `mse_train_v` and `mse_test`, respectively. \n",
        "The code provided below will then plot the learning curves.\n",
        "\n",
        "Your plot should show the two curves (roughly) meet at round 150 training data records."
      ]
    },
    {
      "cell_type": "code",
      "execution_count": 21,
      "metadata": {
        "colab": {
          "base_uri": "https://localhost:8080/",
          "height": 279
        },
        "id": "jDsdh4T3hcIU",
        "outputId": "aeaa658f-16cc-472d-b1ff-ac5267202816"
      },
      "outputs": [
        {
          "output_type": "display_data",
          "data": {
            "text/plain": [
              "<Figure size 432x288 with 1 Axes>"
            ],
            "image/png": "[encoded data removed]"
          },
          "metadata": {
            "needs_background": "light"
          }
        }
      ],
      "source": [
        "mse_train_v = []\n",
        "mse_test_v = []\n",
        "\n",
        "TRAINING_SIZE_MAX = 601\n",
        "TRAINING_SIZE_MIN = 20\n",
        "\n",
        "# compute the MSE over data with sizes from TRAINING_SIZE_MIN to TRAINING_SIZE_MAX with increasing step 20\n",
        "for train_size in range(TRAINING_SIZE_MIN, TRAINING_SIZE_MAX, 20):\n",
        "    X_train_v = X_train[0:train_size,:]\n",
        "    y_train_v = y_train[0:train_size]\n",
        "    mse_train, mse_test = train_and_test(X_train_v, y_train_v, X_test, y_test)\n",
        "    # TODO: \n",
        "    #   1. use the first train_size data records from the X_train and y_train as the training data\n",
        "    #   2. train and compute the MSE on both training and test data using the train_and_test function\n",
        "    #   3. add the computed MSE to the lists mse_train_v and mse_test_v\n",
        "    # The code below is just for compilation. \n",
        "    # You need to replace it by your own code.\n",
        "    ###################################################\n",
        "    ##### YOUR CODE STARTS HERE #######################\n",
        "    ###################################################\n",
        "    \n",
        "    mse_train_v.append(mse_train)\n",
        "    mse_test_v.append(mse_test)\n",
        "    ###################################################\n",
        "    ##### YOUR CODE ENDS HERE #########################\n",
        "    ###################################################\n",
        "    \n",
        "\n",
        "# The below code generates the learning curves plot\n",
        "plt.plot(np.arange(TRAINING_SIZE_MIN, TRAINING_SIZE_MAX, 20), mse_train_v, 'r--', label=\"Training Error\")\n",
        "plt.plot(np.arange(TRAINING_SIZE_MIN, TRAINING_SIZE_MAX, 20), mse_test_v, 'b-', label=\"Test Error\")\n",
        "plt.legend(loc=\"upper right\")\n",
        "plt.xlabel('Dataset Size')\n",
        "plt.ylabel('Mean Squared Error')\n",
        "plt.show()"
      ]
    },
    {
      "cell_type": "markdown",
      "metadata": {
        "id": "djpsaTu_kK3T"
      },
      "source": [
        "## Polynomial Basis Expansion and Regularisation\n",
        "\n",
        "In this part, we will improve the linear regression model by basis expansion and regularization: \n",
        "1. apply the degree 2 basis expansion to the data, \n",
        "2. build the Ridge and Lasso models and\n",
        "3. perform hyperparameter optimization using the validation data. \n",
        "\n",
        "For the hyperparameter optimization, you should set the last 20% of the training data for the purpose of validation and try lambda values in the range [10^-4, 10^-3, 10^-2, 10^-1, 1, 10, 100]. \n",
        "\n",
        "We will use the scikit-learn library. We have imported the necessary functions for you. You can import other scikit-learn functions if you think they are useful. The documentation is available here: http://scikit-learn.org/stable/modules/classes.html"
      ]
    },
    {
      "cell_type": "code",
      "execution_count": 22,
      "metadata": {
        "id": "9TM0nkNbkhfM"
      },
      "outputs": [],
      "source": [
        "# import the preprocessing libs for standarization and basis expansion\n",
        "from sklearn.preprocessing import StandardScaler, PolynomialFeatures \n",
        "\n",
        "# Ridge and Lasso linear model\n",
        "from sklearn.linear_model import Ridge, Lasso "
      ]
    },
    {
      "cell_type": "markdown",
      "metadata": {
        "id": "pCwBPuOXlRF7"
      },
      "source": [
        "### **Task 8**\n",
        "Let's implement the function for expanding the basis of the dataset. \n",
        "\n",
        "Hints: use `PolynomialFeatures`"
      ]
    },
    {
      "cell_type": "code",
      "execution_count": 23,
      "metadata": {
        "id": "50azFolql1qA"
      },
      "outputs": [],
      "source": [
        "def expand_basis(X, degree):\n",
        "    poly=PolynomialFeatures(degree=2, interaction_only=False, include_bias=True, order='C')\n",
        "    X = poly.fit_transform(X)\n",
        "    return X\n",
        "    ###################################################\n",
        "    ##### YOUR CODE ENDS HERE #########################\n",
        "    ###################################################"
      ]
    },
    {
      "cell_type": "markdown",
      "metadata": {
        "id": "6jwkPevimQri"
      },
      "source": [
        "### **Task 9**\n",
        "We need to prepare the data.\n",
        "We first expand and standardize the data,\n",
        "and then split the training data to training data and validation data.\n",
        "We use the last 20% of the training data as the validation data.\n",
        "\n",
        "Hints: use `StandardScaler` and `std_scaler` to standardize the data"
      ]
    },
    {
      "cell_type": "code",
      "execution_count": 28,
      "metadata": {
        "id": "dQCq4G9YmW7w",
        "outputId": "c5f51fdd-5768-4089-b56a-b6d2b5606585",
        "colab": {
          "base_uri": "https://localhost:8080/"
        }
      },
      "outputs": [
        {
          "output_type": "stream",
          "name": "stdout",
          "text": [
            "Shape of X_train_n: (3134, 78)\n",
            "Shape of y_train_n: (3134,)\n",
            "Shape of X_train_v: (784, 78)\n",
            "Shape of y_train_v: (784,)\n",
            "Shape of X_test: (980, 78)\n",
            "Shape of y_test: (980,)\n"
          ]
        }
      ],
      "source": [
        "def prepare_data(X, y, degree):\n",
        "    # TODO: the training, test and validation data using the expanded dataset.\n",
        "    # The code below is just for compilation. \n",
        "    # You need to replace it by your own code.\n",
        "    ###################################################\n",
        "    ##### YOUR CODE STARTS HERE #######################\n",
        "    ###################################################\n",
        "    # Hints: follow the steps     \n",
        "    # 1. split the data (X, y) into training data (X_train, y_train) and test data (X_test, y_test)\n",
        "    # 2. standardize the training data and do the same transformation to the test data\n",
        "    # 3. expand the basis of the training data and test data\n",
        "    # 4. split the expanded training data into training data (X_train_n, y_train_n) and validation data (X_train_v, y_train_v)\n",
        "    split_coeff=0.8\n",
        "    train_size = int(X.shape[0] * split_coeff) \n",
        "    X_train = X[:train_size, :] \n",
        "    X_test = X[train_size:, :]\n",
        "    y_train = y[:train_size]\n",
        "    y_test = y[train_size:]\n",
        "\n",
        "    X_mean_train = np.mean(X_train,axis=0)\n",
        "    X_std_train = np.std(X_train,axis=0)\n",
        "    X_train_std = (X_train-X_mean_train)/X_std_train\n",
        "    X_test_std = (X_test-X_mean_train)/X_std_train\n",
        "    \n",
        "    poly=PolynomialFeatures(degree=2, interaction_only=False, include_bias=True, order='C')\n",
        "    X_train_std_expand = poly.fit_transform(X_train_std)\n",
        "    X_test_std_expand = poly.fit_transform(X_test_std)\n",
        "    \n",
        "    split_coeff=0.8\n",
        "    train_size = int(X_train_std_expand.shape[0] * split_coeff) \n",
        "    X_train_std_expand_n = X_train_std_expand[:train_size, :] \n",
        "    X_train_std_expand_v = X_train_std_expand[train_size:, :]\n",
        "    y_train_n = y_train[:train_size]\n",
        "    y_train_v = y_train[train_size:]\n",
        "    \n",
        "\n",
        "    return X_train_std_expand, y_train, X_train_std_expand_n, y_train_n, X_train_std_expand_v, y_train_v, X_test_std_expand, y_test\n",
        "    ###################################################\n",
        "    ##### YOUR CODE ENDS HERE #########################\n",
        "    ###################################################\n",
        "\n",
        "X_train, y_train, X_train_n, y_train_n, X_train_v, y_train_v, X_test, y_test = prepare_data(X, y, 2) # here we expand the dataset with degree 2\n",
        "\n",
        "# check the size of the splitted dataset\n",
        "print(\"Shape of X_train_n:\", X_train_n.shape) # expected output (3134, 78)\n",
        "print(\"Shape of y_train_n:\", y_train_n.shape) # expected output (3134,)\n",
        "print(\"Shape of X_train_v:\", X_train_v.shape) # expected output (784, 78)\n",
        "print(\"Shape of y_train_v:\", y_train_v.shape) # expected output (784,)\n",
        "print(\"Shape of X_test:\", X_test.shape) # expected output (980, 78)\n",
        "print(\"Shape of y_test:\", y_test.shape) # expected output (980,)"
      ]
    },
    {
      "cell_type": "markdown",
      "metadata": {
        "id": "i3BxxtM3nghU"
      },
      "source": [
        "### **Task 10**\n",
        "We have prepared the training data and the validation data. \n",
        "We can now use the validation data to select the optimal hyperparameters for the Ridge and Lasso models. \n",
        "We use the Ridge and Lasso models from scikit-learn: https://scikit-learn.org/stable/modules/generated/sklearn.linear_model.Ridge.html\n",
        "\n",
        "We train Ridge or Lasso models with different lambda values and check their performance on the validation data, and select the lambda values that yield the best performance. "
      ]
    },
    {
      "cell_type": "code",
      "execution_count": 29,
      "metadata": {
        "colab": {
          "base_uri": "https://localhost:8080/",
          "height": 646
        },
        "id": "SvXcAGW1oHq1",
        "outputId": "a70ad846-e6bf-4998-e5ae-69088a43ecb1"
      },
      "outputs": [
        {
          "output_type": "stream",
          "name": "stderr",
          "text": [
            "/usr/local/lib/python3.7/dist-packages/sklearn/linear_model/_coordinate_descent.py:648: ConvergenceWarning: Objective did not converge. You might want to increase the number of iterations, check the scale of the features or consider increasing regularisation. Duality gap: 4.466e+02, tolerance: 2.424e-01\n",
            "  coef_, l1_reg, l2_reg, X, y, max_iter, tol, rng, random, positive\n",
            "/usr/local/lib/python3.7/dist-packages/sklearn/linear_model/_coordinate_descent.py:648: ConvergenceWarning: Objective did not converge. You might want to increase the number of iterations, check the scale of the features or consider increasing regularisation. Duality gap: 2.957e+01, tolerance: 2.424e-01\n",
            "  coef_, l1_reg, l2_reg, X, y, max_iter, tol, rng, random, positive\n"
          ]
        },
        {
          "output_type": "stream",
          "name": "stdout",
          "text": [
            "Ridge lambda: 10\n",
            "Lasso lambda: 0.001\n"
          ]
        },
        {
          "output_type": "display_data",
          "data": {
            "text/plain": [
              "<Figure size 432x288 with 1 Axes>"
            ],
            "image/png": "[encoded data removed]"
          },
          "metadata": {
            "needs_background": "light"
          }
        },
        {
          "output_type": "display_data",
          "data": {
            "text/plain": [
              "<Figure size 432x288 with 1 Axes>"
            ],
            "image/png": "[encoded data removed]"
          },
          "metadata": {
            "needs_background": "light"
          }
        }
      ],
      "source": [
        "# The function takes the training and validation data as inputs, and \n",
        "# returns the lambda value that results the minimal mse\n",
        "# We use is_ridge to indicate which the model is considered.\n",
        "# is_ridge = True indicates Ridge while is_ridge = False indicates Lasso\n",
        "def choose_hyper_param(X_train_n, y_train_n, X_train_v, y_train_v, is_ridge: bool):\n",
        "    mse_arr = []\n",
        "    lam_arr = []\n",
        "\n",
        "    # Try lambda values from 10^-4 to 10^2. \n",
        "    # Record the mse and the lambda values in mse_arr and lam_arr\n",
        "    # The code below is just for compilation. \n",
        "    # You need to replace it by your own code.\n",
        "    ###################################################\n",
        "    ##### YOUR CODE STARTS HERE #######################\n",
        "    ###################################################\n",
        "\n",
        "    \n",
        "    for pow_lam in range(-4, 3):\n",
        "        lam = 10 ** pow_lam\n",
        "        if is_ridge:\n",
        "          clf = Ridge(alpha=lam)\n",
        "          clf.fit(X_train_n, y_train_n)\n",
        "          y_predicted = clf.predict(X_train_v)\n",
        "          mse = np.mean((y_train_v - y_predicted)**2)\n",
        "        else:\n",
        "          clf = Lasso(alpha=lam)\n",
        "          clf.fit(X_train_n, y_train_n)\n",
        "          y_predicted = clf.predict(X_train_v)\n",
        "          mse = np.mean((y_train_v - y_predicted)**2)\n",
        "\n",
        "        mse_arr.append(mse) \n",
        "        lam_arr.append(lam) \n",
        "    ###################################################\n",
        "    ##### YOUR CODE ENDS HERE #########################\n",
        "    ###################################################\n",
        "\n",
        "\n",
        "    # get the index of the lambda value that has the minimal use\n",
        "    lambda_idx_min = np.argmin(np.array(mse_arr))\n",
        "\n",
        "    # plot of the lambda values and their mse\n",
        "    plt.figure()\n",
        "    plt.semilogx(lam_arr, mse_arr)\n",
        "\n",
        "    # return the optimal lambda value\n",
        "    return lam_arr[lambda_idx_min]\n",
        "\n",
        "# call the function to choose the lambda for Ridge and Lasso\n",
        "lam_ridge = choose_hyper_param(X_train_n, y_train_n, X_train_v, y_train_v, True)\n",
        "lam_lasso = choose_hyper_param(X_train_n, y_train_n, X_train_v, y_train_v, False)\n",
        "\n",
        "print(\"Ridge lambda:\", lam_ridge)\n",
        "print(\"Lasso lambda:\", lam_lasso)"
      ]
    },
    {
      "cell_type": "markdown",
      "metadata": {
        "id": "FAuX0uU5k9qD"
      },
      "source": [
        "### **Task 11**:\n",
        "Once we get the optimal lambdas for Ridge and Lasso, we train these models using these lambdas on the full training data, and then report their performance."
      ]
    },
    {
      "cell_type": "code",
      "execution_count": 32,
      "metadata": {
        "colab": {
          "base_uri": "https://localhost:8080/"
        },
        "id": "VmwHESkg77zK",
        "outputId": "dbb01430-1e7d-4ea8-b72c-bc02dc762b5e"
      },
      "outputs": [
        {
          "output_type": "stream",
          "name": "stdout",
          "text": [
            "For Ridge Regression with using degree 2 polynomial expansion and lambda = 10.0000\n",
            "--------------------------------------------------------------------------------\n",
            "\n",
            "MSE (Training) = 0.4952\n",
            "MSE (Testing)  = 0.5127\n",
            "\n",
            "\n",
            "For Lasso with using degree 2 polynomial expansion and lambda = 0.0010\n",
            "---------------------------------------------------------------------\n",
            "\n",
            "MSE (Training) = 0.4953\n",
            "MSE (Testing)  = 0.5122\n"
          ]
        },
        {
          "output_type": "stream",
          "name": "stderr",
          "text": [
            "/usr/local/lib/python3.7/dist-packages/sklearn/linear_model/_coordinate_descent.py:648: ConvergenceWarning: Objective did not converge. You might want to increase the number of iterations, check the scale of the features or consider increasing regularisation. Duality gap: 7.237e+00, tolerance: 3.043e-01\n",
            "  coef_, l1_reg, l2_reg, X, y, max_iter, tol, rng, random, positive\n"
          ]
        }
      ],
      "source": [
        "# TODO: train the Ridge and Lasso models using the optimal parameters, and\n",
        "#       report their MSE\n",
        "###################################################\n",
        "##### YOUR CODE STARTS HERE #######################\n",
        "###################################################\n",
        "# Hints: train these models on the full training data\n",
        "clf_Ridge = Ridge(alpha=0.0001)\n",
        "clf_Ridge.fit(X_train, y_train)\n",
        "y_predicted_test_ridge = clf_Ridge.predict(X_test)\n",
        "y_predicted_train_ridge = clf_Ridge.predict(X_train)\n",
        "mse_ridge_train = np.mean((y_train - y_predicted_train_ridge)**2)\n",
        "mse_ridge_test = np.mean((y_test - y_predicted_test_ridge)**2)\n",
        "\n",
        "clf_Lasso = Lasso(alpha=0.0001)\n",
        "clf_Lasso.fit(X_train, y_train)\n",
        "y_predicted_test_lasso = clf_Lasso.predict(X_test)\n",
        "y_predicted_train_lasso = clf_Lasso.predict(X_train)\n",
        "mse_lasso_train = np.mean((y_train - y_predicted_train_lasso)**2)\n",
        "mse_lasso_test = np.mean((y_test - y_predicted_test_lasso)**2)\n",
        "\n",
        "\n",
        "###################################################\n",
        "##### YOUR CODE ENDS HERE #########################\n",
        "###################################################\n",
        "\n",
        "# Report the result\n",
        "print('For Ridge Regression with using degree %d polynomial expansion and lambda = %.4f' % (2, lam_ridge))\n",
        "print('--------------------------------------------------------------------------------\\n')\n",
        "print('MSE (Training) = %.4f' % mse_ridge_train)\n",
        "print('MSE (Testing)  = %.4f' % mse_ridge_test)\n",
        "\n",
        "print('\\n\\nFor Lasso with using degree %d polynomial expansion and lambda = %.4f' % (2, lam_lasso))\n",
        "print('---------------------------------------------------------------------\\n')\n",
        "print('MSE (Training) = %.4f' % mse_lasso_train)\n",
        "print('MSE (Testing)  = %.4f' % mse_lasso_test)"
      ]
    },
    {
      "cell_type": "markdown",
      "metadata": {
        "id": "Os9tKKLd8gMU"
      },
      "source": [
        "## Optional: Try Larger Degrees using K-fold Cross Validation\n",
        "\n"
      ]
    },
    {
      "cell_type": "markdown",
      "metadata": {
        "id": "sfqRAlv1PBXi"
      },
      "source": [
        "### **Task 12**\n",
        "This is an optional task, which worths 5 bonus points.\n",
        "\n",
        "The task is to try basis expansions with higher degrees (up to degree 4) and find the degree that results the best performance. \n",
        "Instead of always using the same validation data, we use k-fold cross-validation to find the optimal hyperparameters. \n",
        "\n",
        "Your task is to report the optimal hyperparameters (the basis expansion degree and the lambdas) and the MSEs of the Ridge and Lasso when using these optimal hyperparameters. \n",
        "\n",
        "Hints: Use `KFold` to do this automatically. "
      ]
    },
    {
      "cell_type": "code",
      "execution_count": 34,
      "metadata": {
        "id": "kpwY7UtQ8l-0",
        "colab": {
          "base_uri": "https://localhost:8080/"
        },
        "outputId": "e39bd4eb-e9b5-4ca2-8758-191f2dd0a9cb"
      },
      "outputs": [
        {
          "output_type": "stream",
          "name": "stdout",
          "text": [
            "Rdige Dgree: 1\n",
            "Ridge lambda: 0.0001\n",
            "Lasso Degree: 1\n",
            "Lasso lambda: 0.0001\n",
            "For Ridge Regression with using degree 1 polynomial expansion and lambda = 0.0001\n",
            "--------------------------------------------------------------------------------\n",
            "\n",
            "MSE (Training) = 0.4952\n",
            "MSE (Testing)  = 0.5127\n",
            "\n",
            "\n",
            "For Lasso with using degree 1 polynomial expansion and lambda = 0.0001\n",
            "---------------------------------------------------------------------\n",
            "\n",
            "MSE (Training) = 0.4953\n",
            "MSE (Testing)  = 0.5122\n"
          ]
        },
        {
          "output_type": "stream",
          "name": "stderr",
          "text": [
            "/usr/local/lib/python3.7/dist-packages/sklearn/linear_model/_coordinate_descent.py:648: ConvergenceWarning: Objective did not converge. You might want to increase the number of iterations, check the scale of the features or consider increasing regularisation. Duality gap: 7.237e+00, tolerance: 3.043e-01\n",
            "  coef_, l1_reg, l2_reg, X, y, max_iter, tol, rng, random, positive\n"
          ]
        }
      ],
      "source": [
        "# KFold\n",
        "from sklearn.model_selection import KFold\n",
        "def choose_param(X, y, is_ridge: bool):\n",
        "    mse_arr = []\n",
        "    degree_arr = []\n",
        "    lam_arr = []\n",
        "\n",
        "    for degree_exp in range(1,5):\n",
        "      split_coeff=0.8\n",
        "      train_size = int(X.shape[0] * split_coeff) \n",
        "      X_train = X[:train_size, :] \n",
        "      X_test = X[train_size:, :]\n",
        "      y_train = y[:train_size]\n",
        "      y_test = y[train_size:]\n",
        "\n",
        "      X_mean_train = X_train.mean()\n",
        "      X_std_train = X_train.std()\n",
        "      X_train_std = (X_train-X_mean_train)/X_std_train\n",
        "      X_test_std = (X_test-X_mean_train)/X_std_train\n",
        "    \n",
        "      poly=PolynomialFeatures(degree=degree_exp, interaction_only=False, include_bias=True, order='C')\n",
        "      X_train_std_expand = poly.fit_transform(X_train_std)\n",
        "      X_test_std_expand = poly.fit_transform(X_test_std)\n",
        "\n",
        "      kf = KFold(n_splits=2)\n",
        "      kf.get_n_splits(X_train_std_expand)\n",
        "\n",
        "      for train_index, test_index in kf.split(X):\n",
        "        X_train_n, X_train_v = X[train_index], X[test_index]\n",
        "        y_train_n, y_train_v = y[train_index], y[test_index]\n",
        "\n",
        "      for pow_lam in range(-4, 3):\n",
        "        lam = 10 ** pow_lam\n",
        "        if is_ridge:\n",
        "          clf = Ridge(alpha=lam)\n",
        "          clf.fit(X_train_n, y_train_n)\n",
        "          y_predicted = clf.predict(X_train_v)\n",
        "          mse = np.mean((y_train_v - y_predicted)**2)\n",
        "        else:\n",
        "          clf = Lasso(alpha=lam)\n",
        "          clf.fit(X_train_n, y_train_n)\n",
        "          y_predicted = clf.predict(X_train_v)\n",
        "          mse = np.mean((y_train_v - y_predicted)**2)\n",
        "        mse_arr.append(mse) \n",
        "        lam_arr.append(lam) \n",
        "        degree_arr.append(degree_exp)\n",
        "\n",
        "    lambda_idx_min = np.argmin(np.array(mse_arr))\n",
        "\n",
        "    return degree_arr[lambda_idx_min], lam_arr[lambda_idx_min]\n",
        "\n",
        "\n",
        "[min_degree_ridge,min_lam_ridge] = choose_param(X, y, True)\n",
        "[min_degree_lasso,min_lam_lasso] = choose_param(X, y, False)\n",
        "\n",
        "print(\"Rdige Dgree:\", min_degree_ridge)\n",
        "print(\"Ridge lambda:\", min_lam_ridge)\n",
        "print(\"Lasso Degree:\", min_degree_lasso)\n",
        "print(\"Lasso lambda:\", min_lam_lasso)\n",
        "\n",
        "X_train, y_train, X_train_n, y_train_n, X_train_v, y_train_v, X_test, y_test = prepare_data(X, y, min_degree_ridge)\n",
        "clf_Ridge = Ridge(alpha=min_lam_ridge)\n",
        "clf_Ridge.fit(X_train, y_train)\n",
        "y_predicted_test_ridge = clf_Ridge.predict(X_test)\n",
        "y_predicted_train_ridge = clf_Ridge.predict(X_train)\n",
        "mse_ridge_train = np.mean((y_train - y_predicted_train_ridge)**2)\n",
        "mse_ridge_test = np.mean((y_test - y_predicted_test_ridge)**2)\n",
        "\n",
        "X_train, y_train, X_train_n, y_train_n, X_train_v, y_train_v, X_test, y_test = prepare_data(X, y, min_degree_lasso)\n",
        "clf_Lasso = Lasso(alpha=min_lam_lasso)\n",
        "clf_Lasso.fit(X_train, y_train)\n",
        "y_predicted_test_lasso = clf_Lasso.predict(X_test)\n",
        "y_predicted_train_lasso = clf_Lasso.predict(X_train)\n",
        "mse_lasso_train = np.mean((y_train - y_predicted_train_lasso)**2)\n",
        "mse_lasso_test = np.mean((y_test - y_predicted_test_lasso)**2)\n",
        "\n",
        "print('For Ridge Regression with using degree %d polynomial expansion and lambda = %.4f' % (min_degree_ridge, min_lam_ridge))\n",
        "print('--------------------------------------------------------------------------------\\n')\n",
        "print('MSE (Training) = %.4f' % mse_ridge_train)\n",
        "print('MSE (Testing)  = %.4f' % mse_ridge_test)\n",
        "\n",
        "print('\\n\\nFor Lasso with using degree %d polynomial expansion and lambda = %.4f' % (min_degree_lasso, min_lam_lasso))\n",
        "print('---------------------------------------------------------------------\\n')\n",
        "print('MSE (Training) = %.4f' % mse_lasso_train)\n",
        "print('MSE (Testing)  = %.4f' % mse_lasso_test)\n"
      ]
    },
    {
      "cell_type": "code",
      "execution_count": null,
      "metadata": {
        "id": "OrNwBFM7nYqM"
      },
      "outputs": [],
      "source": []
    }
  ],
  "metadata": {
    "colab": {
      "collapsed_sections": [],
      "provenance": [],
      "include_colab_link": true
    },
    "kernelspec": {
      "display_name": "Python 3.9.10 64-bit",
      "language": "python",
      "name": "python3"
    },
    "language_info": {
      "codemirror_mode": {
        "name": "ipython",
        "version": 3
      },
      "file_extension": ".py",
      "mimetype": "text/x-python",
      "name": "python",
      "nbconvert_exporter": "python",
      "pygments_lexer": "ipython3",
      "version": "3.9.10"
    },
    "vscode": {
      "interpreter": {
        "hash": "aee8b7b246df8f9039afb4144a1f6fd8d2ca17a180786b69acc140d282b71a49"
      }
    }
  },
  "nbformat": 4,
  "nbformat_minor": 0
}